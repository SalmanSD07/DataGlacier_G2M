{
  "nbformat": 4,
  "nbformat_minor": 0,
  "metadata": {
    "colab": {
      "provenance": []
    },
    "kernelspec": {
      "name": "python3",
      "display_name": "Python 3"
    },
    "language_info": {
      "name": "python"
    }
  },
  "cells": [
    {
      "cell_type": "code",
      "execution_count": 217,
      "metadata": {
        "id": "ETNkRB_uedV6"
      },
      "outputs": [],
      "source": [
        "import pandas as pd\n",
        "import numpy as np\n",
        "import matplotlib.pyplot as plt"
      ]
    },
    {
      "cell_type": "code",
      "source": [
        "cab_data=pd.read_csv('Cab_Data.csv')\n",
        "city=pd.read_csv('City.csv')\n",
        "customer_id=pd.read_csv('Customer_ID.csv')\n",
        "transaction_id=pd.read_csv('Transaction_ID.csv')"
      ],
      "metadata": {
        "id": "zrs5T6y8emYR"
      },
      "execution_count": 218,
      "outputs": []
    },
    {
      "cell_type": "code",
      "source": [
        "cab_data=cab_data.drop_duplicates(subset=['Transaction ID'])\n",
        "city=city.drop_duplicates(subset=['City'])\n",
        "customer_id=customer_id.drop_duplicates(subset=['Customer ID'])\n",
        "transaction_id=transaction_id.drop_duplicates(subset=['Transaction ID'])"
      ],
      "metadata": {
        "id": "26c4oW6uT3om"
      },
      "execution_count": 219,
      "outputs": []
    },
    {
      "cell_type": "code",
      "source": [
        "cab_data.info()"
      ],
      "metadata": {
        "colab": {
          "base_uri": "https://localhost:8080/"
        },
        "id": "gbsmHq8IfkBA",
        "outputId": "e011c9e3-2540-441b-bcef-ff91247bf456"
      },
      "execution_count": 220,
      "outputs": [
        {
          "output_type": "stream",
          "name": "stdout",
          "text": [
            "<class 'pandas.core.frame.DataFrame'>\n",
            "Int64Index: 359392 entries, 0 to 359391\n",
            "Data columns (total 7 columns):\n",
            " #   Column          Non-Null Count   Dtype  \n",
            "---  ------          --------------   -----  \n",
            " 0   Transaction ID  359392 non-null  int64  \n",
            " 1   Date of Travel  359392 non-null  object \n",
            " 2   Company         359392 non-null  object \n",
            " 3   City            359392 non-null  object \n",
            " 4   KM Travelled    359392 non-null  float64\n",
            " 5   Price Charged   359392 non-null  float64\n",
            " 6   Cost of Trip    359392 non-null  float64\n",
            "dtypes: float64(3), int64(1), object(3)\n",
            "memory usage: 21.9+ MB\n"
          ]
        }
      ]
    },
    {
      "cell_type": "code",
      "source": [
        "cab_data['Profit']=cab_data['Price Charged']-cab_data['Cost of Trip']"
      ],
      "metadata": {
        "id": "JyN9U6L5rQ-e"
      },
      "execution_count": 221,
      "outputs": []
    },
    {
      "cell_type": "code",
      "source": [
        "cab_data['Date of Travel']=pd.to_datetime(cab_data['Date of Travel'])"
      ],
      "metadata": {
        "id": "SgCWaQqMsXm1"
      },
      "execution_count": 222,
      "outputs": []
    },
    {
      "cell_type": "code",
      "source": [
        "cab_data.tail()"
      ],
      "metadata": {
        "colab": {
          "base_uri": "https://localhost:8080/",
          "height": 206
        },
        "id": "S1GVFkXs5Dql",
        "outputId": "0dc39649-52db-42ad-c8cf-5ea66c6c32d6"
      },
      "execution_count": 223,
      "outputs": [
        {
          "output_type": "execute_result",
          "data": {
            "text/plain": [
              "        Transaction ID Date of Travel     Company           City  \\\n",
              "359387        10440101     2018-08-01  Yellow Cab  WASHINGTON DC   \n",
              "359388        10440104     2018-04-01  Yellow Cab  WASHINGTON DC   \n",
              "359389        10440105     2018-05-01  Yellow Cab  WASHINGTON DC   \n",
              "359390        10440106     2018-05-01  Yellow Cab  WASHINGTON DC   \n",
              "359391        10440107     2018-02-01  Yellow Cab  WASHINGTON DC   \n",
              "\n",
              "        KM Travelled  Price Charged  Cost of Trip   Profit  \n",
              "359387          4.80          69.24       63.3600   5.8800  \n",
              "359388          8.40         113.75      106.8480   6.9020  \n",
              "359389         27.75         437.07      349.6500  87.4200  \n",
              "359390          8.80         146.19      114.0480  32.1420  \n",
              "359391         12.76         191.58      177.6192  13.9608  "
            ],
            "text/html": [
              "\n",
              "  <div id=\"df-a9483854-ed83-4cd2-9f03-60136241ad91\">\n",
              "    <div class=\"colab-df-container\">\n",
              "      <div>\n",
              "<style scoped>\n",
              "    .dataframe tbody tr th:only-of-type {\n",
              "        vertical-align: middle;\n",
              "    }\n",
              "\n",
              "    .dataframe tbody tr th {\n",
              "        vertical-align: top;\n",
              "    }\n",
              "\n",
              "    .dataframe thead th {\n",
              "        text-align: right;\n",
              "    }\n",
              "</style>\n",
              "<table border=\"1\" class=\"dataframe\">\n",
              "  <thead>\n",
              "    <tr style=\"text-align: right;\">\n",
              "      <th></th>\n",
              "      <th>Transaction ID</th>\n",
              "      <th>Date of Travel</th>\n",
              "      <th>Company</th>\n",
              "      <th>City</th>\n",
              "      <th>KM Travelled</th>\n",
              "      <th>Price Charged</th>\n",
              "      <th>Cost of Trip</th>\n",
              "      <th>Profit</th>\n",
              "    </tr>\n",
              "  </thead>\n",
              "  <tbody>\n",
              "    <tr>\n",
              "      <th>359387</th>\n",
              "      <td>10440101</td>\n",
              "      <td>2018-08-01</td>\n",
              "      <td>Yellow Cab</td>\n",
              "      <td>WASHINGTON DC</td>\n",
              "      <td>4.80</td>\n",
              "      <td>69.24</td>\n",
              "      <td>63.3600</td>\n",
              "      <td>5.8800</td>\n",
              "    </tr>\n",
              "    <tr>\n",
              "      <th>359388</th>\n",
              "      <td>10440104</td>\n",
              "      <td>2018-04-01</td>\n",
              "      <td>Yellow Cab</td>\n",
              "      <td>WASHINGTON DC</td>\n",
              "      <td>8.40</td>\n",
              "      <td>113.75</td>\n",
              "      <td>106.8480</td>\n",
              "      <td>6.9020</td>\n",
              "    </tr>\n",
              "    <tr>\n",
              "      <th>359389</th>\n",
              "      <td>10440105</td>\n",
              "      <td>2018-05-01</td>\n",
              "      <td>Yellow Cab</td>\n",
              "      <td>WASHINGTON DC</td>\n",
              "      <td>27.75</td>\n",
              "      <td>437.07</td>\n",
              "      <td>349.6500</td>\n",
              "      <td>87.4200</td>\n",
              "    </tr>\n",
              "    <tr>\n",
              "      <th>359390</th>\n",
              "      <td>10440106</td>\n",
              "      <td>2018-05-01</td>\n",
              "      <td>Yellow Cab</td>\n",
              "      <td>WASHINGTON DC</td>\n",
              "      <td>8.80</td>\n",
              "      <td>146.19</td>\n",
              "      <td>114.0480</td>\n",
              "      <td>32.1420</td>\n",
              "    </tr>\n",
              "    <tr>\n",
              "      <th>359391</th>\n",
              "      <td>10440107</td>\n",
              "      <td>2018-02-01</td>\n",
              "      <td>Yellow Cab</td>\n",
              "      <td>WASHINGTON DC</td>\n",
              "      <td>12.76</td>\n",
              "      <td>191.58</td>\n",
              "      <td>177.6192</td>\n",
              "      <td>13.9608</td>\n",
              "    </tr>\n",
              "  </tbody>\n",
              "</table>\n",
              "</div>\n",
              "      <button class=\"colab-df-convert\" onclick=\"convertToInteractive('df-a9483854-ed83-4cd2-9f03-60136241ad91')\"\n",
              "              title=\"Convert this dataframe to an interactive table.\"\n",
              "              style=\"display:none;\">\n",
              "        \n",
              "  <svg xmlns=\"http://www.w3.org/2000/svg\" height=\"24px\"viewBox=\"0 0 24 24\"\n",
              "       width=\"24px\">\n",
              "    <path d=\"M0 0h24v24H0V0z\" fill=\"none\"/>\n",
              "    <path d=\"M18.56 5.44l.94 2.06.94-2.06 2.06-.94-2.06-.94-.94-2.06-.94 2.06-2.06.94zm-11 1L8.5 8.5l.94-2.06 2.06-.94-2.06-.94L8.5 2.5l-.94 2.06-2.06.94zm10 10l.94 2.06.94-2.06 2.06-.94-2.06-.94-.94-2.06-.94 2.06-2.06.94z\"/><path d=\"M17.41 7.96l-1.37-1.37c-.4-.4-.92-.59-1.43-.59-.52 0-1.04.2-1.43.59L10.3 9.45l-7.72 7.72c-.78.78-.78 2.05 0 2.83L4 21.41c.39.39.9.59 1.41.59.51 0 1.02-.2 1.41-.59l7.78-7.78 2.81-2.81c.8-.78.8-2.07 0-2.86zM5.41 20L4 18.59l7.72-7.72 1.47 1.35L5.41 20z\"/>\n",
              "  </svg>\n",
              "      </button>\n",
              "      \n",
              "  <style>\n",
              "    .colab-df-container {\n",
              "      display:flex;\n",
              "      flex-wrap:wrap;\n",
              "      gap: 12px;\n",
              "    }\n",
              "\n",
              "    .colab-df-convert {\n",
              "      background-color: #E8F0FE;\n",
              "      border: none;\n",
              "      border-radius: 50%;\n",
              "      cursor: pointer;\n",
              "      display: none;\n",
              "      fill: #1967D2;\n",
              "      height: 32px;\n",
              "      padding: 0 0 0 0;\n",
              "      width: 32px;\n",
              "    }\n",
              "\n",
              "    .colab-df-convert:hover {\n",
              "      background-color: #E2EBFA;\n",
              "      box-shadow: 0px 1px 2px rgba(60, 64, 67, 0.3), 0px 1px 3px 1px rgba(60, 64, 67, 0.15);\n",
              "      fill: #174EA6;\n",
              "    }\n",
              "\n",
              "    [theme=dark] .colab-df-convert {\n",
              "      background-color: #3B4455;\n",
              "      fill: #D2E3FC;\n",
              "    }\n",
              "\n",
              "    [theme=dark] .colab-df-convert:hover {\n",
              "      background-color: #434B5C;\n",
              "      box-shadow: 0px 1px 3px 1px rgba(0, 0, 0, 0.15);\n",
              "      filter: drop-shadow(0px 1px 2px rgba(0, 0, 0, 0.3));\n",
              "      fill: #FFFFFF;\n",
              "    }\n",
              "  </style>\n",
              "\n",
              "      <script>\n",
              "        const buttonEl =\n",
              "          document.querySelector('#df-a9483854-ed83-4cd2-9f03-60136241ad91 button.colab-df-convert');\n",
              "        buttonEl.style.display =\n",
              "          google.colab.kernel.accessAllowed ? 'block' : 'none';\n",
              "\n",
              "        async function convertToInteractive(key) {\n",
              "          const element = document.querySelector('#df-a9483854-ed83-4cd2-9f03-60136241ad91');\n",
              "          const dataTable =\n",
              "            await google.colab.kernel.invokeFunction('convertToInteractive',\n",
              "                                                     [key], {});\n",
              "          if (!dataTable) return;\n",
              "\n",
              "          const docLinkHtml = 'Like what you see? Visit the ' +\n",
              "            '<a target=\"_blank\" href=https://colab.research.google.com/notebooks/data_table.ipynb>data table notebook</a>'\n",
              "            + ' to learn more about interactive tables.';\n",
              "          element.innerHTML = '';\n",
              "          dataTable['output_type'] = 'display_data';\n",
              "          await google.colab.output.renderOutput(dataTable, element);\n",
              "          const docLink = document.createElement('div');\n",
              "          docLink.innerHTML = docLinkHtml;\n",
              "          element.appendChild(docLink);\n",
              "        }\n",
              "      </script>\n",
              "    </div>\n",
              "  </div>\n",
              "  "
            ]
          },
          "metadata": {},
          "execution_count": 223
        }
      ]
    },
    {
      "cell_type": "code",
      "source": [
        "cab_Profit=cab_data.groupby(['Company',cab_data['Date of Travel'].dt.year])['Profit'].sum()\n",
        "cab_Rides=cab_data.groupby(['Company',cab_data['Date of Travel'].dt.year])['Profit'].count()\n",
        "cab_profit_per_ride=cab_Profit/cab_Rides\n",
        "display(cab_Profit)\n",
        "display(cab_Rides)\n",
        "display(cab_profit_per_ride)\n",
        "\n",
        "df2=cab_profit_per_ride.reset_index()\n",
        "pivot = df2.pivot(index='Date of Travel', columns='Company', values='Profit')\n",
        "\n",
        "pivot.plot(kind='bar', stacked=True)\n",
        "\n",
        "plt.xlabel('Year')\n",
        "plt.ylabel('Profit_Per_Ride')\n",
        "plt.legend()\n",
        "plt.show()\n"
      ],
      "metadata": {
        "colab": {
          "base_uri": "https://localhost:8080/",
          "height": 732
        },
        "id": "XTnWF8o-r8hz",
        "outputId": "1569826b-34ce-4184-e830-22918ddb0f08"
      },
      "execution_count": 224,
      "outputs": [
        {
          "output_type": "display_data",
          "data": {
            "text/plain": [
              "Company     Date of Travel\n",
              "Pink Cab    2016              1.713511e+06\n",
              "            2017              2.033655e+06\n",
              "            2018              1.560162e+06\n",
              "Yellow Cab  2016              1.392700e+07\n",
              "            2017              1.657598e+07\n",
              "            2018              1.351740e+07\n",
              "Name: Profit, dtype: float64"
            ]
          },
          "metadata": {}
        },
        {
          "output_type": "display_data",
          "data": {
            "text/plain": [
              "Company     Date of Travel\n",
              "Pink Cab    2016              25080\n",
              "            2017              30321\n",
              "            2018              29310\n",
              "Yellow Cab  2016              82239\n",
              "            2017              98189\n",
              "            2018              94253\n",
              "Name: Profit, dtype: int64"
            ]
          },
          "metadata": {}
        },
        {
          "output_type": "display_data",
          "data": {
            "text/plain": [
              "Company     Date of Travel\n",
              "Pink Cab    2016               68.321819\n",
              "            2017               67.070839\n",
              "            2018               53.229689\n",
              "Yellow Cab  2016              169.347821\n",
              "            2017              168.817057\n",
              "            2018              143.416122\n",
              "Name: Profit, dtype: float64"
            ]
          },
          "metadata": {}
        },
        {
          "output_type": "display_data",
          "data": {
            "text/plain": [
              "<Figure size 432x288 with 1 Axes>"
            ],
            "image/png": "[encoded data removed]"
          },
          "metadata": {
            "needs_background": "light"
          }
        }
      ]
    },
    {
      "cell_type": "code",
      "source": [
        "city.info()"
      ],
      "metadata": {
        "colab": {
          "base_uri": "https://localhost:8080/"
        },
        "id": "lqBS8SZIfnlr",
        "outputId": "3600ee21-28c1-409b-c09f-fae55db69a09"
      },
      "execution_count": 225,
      "outputs": [
        {
          "output_type": "stream",
          "name": "stdout",
          "text": [
            "<class 'pandas.core.frame.DataFrame'>\n",
            "Int64Index: 20 entries, 0 to 19\n",
            "Data columns (total 3 columns):\n",
            " #   Column      Non-Null Count  Dtype  \n",
            "---  ------      --------------  -----  \n",
            " 0   City        20 non-null     object \n",
            " 1   Population  20 non-null     float64\n",
            " 2   Users       20 non-null     float64\n",
            "dtypes: float64(2), object(1)\n",
            "memory usage: 640.0+ bytes\n"
          ]
        }
      ]
    },
    {
      "cell_type": "code",
      "source": [
        "city['user_percent']=(city['Users']/city['Population'])*100\n",
        "display(city.head())\n",
        "city.plot(kind='bar',x='City',y='user_percent')\n",
        "\n",
        "plt.xlabel('City')\n",
        "plt.ylabel('Percent of peoples using cab')\n",
        "\n",
        "plt.show()"
      ],
      "metadata": {
        "colab": {
          "base_uri": "https://localhost:8080/",
          "height": 557
        },
        "id": "2jAlAT1LA_33",
        "outputId": "6e32d062-d1fb-44e6-f737-1fc3a19a76af"
      },
      "execution_count": 226,
      "outputs": [
        {
          "output_type": "display_data",
          "data": {
            "text/plain": [
              "             City  Population     Users  user_percent\n",
              "0     NEW YORK NY   8405837.0  302149.0      3.594514\n",
              "1      CHICAGO IL   1955130.0  164468.0      8.412126\n",
              "2  LOS ANGELES CA   1595037.0  144132.0      9.036279\n",
              "3        MIAMI FL   1339155.0   17675.0      1.319862\n",
              "4  SILICON VALLEY   1177609.0   27247.0      2.313756"
            ],
            "text/html": [
              "\n",
              "  <div id=\"df-fe8e1876-d7af-485a-935e-06125bacb092\">\n",
              "    <div class=\"colab-df-container\">\n",
              "      <div>\n",
              "<style scoped>\n",
              "    .dataframe tbody tr th:only-of-type {\n",
              "        vertical-align: middle;\n",
              "    }\n",
              "\n",
              "    .dataframe tbody tr th {\n",
              "        vertical-align: top;\n",
              "    }\n",
              "\n",
              "    .dataframe thead th {\n",
              "        text-align: right;\n",
              "    }\n",
              "</style>\n",
              "<table border=\"1\" class=\"dataframe\">\n",
              "  <thead>\n",
              "    <tr style=\"text-align: right;\">\n",
              "      <th></th>\n",
              "      <th>City</th>\n",
              "      <th>Population</th>\n",
              "      <th>Users</th>\n",
              "      <th>user_percent</th>\n",
              "    </tr>\n",
              "  </thead>\n",
              "  <tbody>\n",
              "    <tr>\n",
              "      <th>0</th>\n",
              "      <td>NEW YORK NY</td>\n",
              "      <td>8405837.0</td>\n",
              "      <td>302149.0</td>\n",
              "      <td>3.594514</td>\n",
              "    </tr>\n",
              "    <tr>\n",
              "      <th>1</th>\n",
              "      <td>CHICAGO IL</td>\n",
              "      <td>1955130.0</td>\n",
              "      <td>164468.0</td>\n",
              "      <td>8.412126</td>\n",
              "    </tr>\n",
              "    <tr>\n",
              "      <th>2</th>\n",
              "      <td>LOS ANGELES CA</td>\n",
              "      <td>1595037.0</td>\n",
              "      <td>144132.0</td>\n",
              "      <td>9.036279</td>\n",
              "    </tr>\n",
              "    <tr>\n",
              "      <th>3</th>\n",
              "      <td>MIAMI FL</td>\n",
              "      <td>1339155.0</td>\n",
              "      <td>17675.0</td>\n",
              "      <td>1.319862</td>\n",
              "    </tr>\n",
              "    <tr>\n",
              "      <th>4</th>\n",
              "      <td>SILICON VALLEY</td>\n",
              "      <td>1177609.0</td>\n",
              "      <td>27247.0</td>\n",
              "      <td>2.313756</td>\n",
              "    </tr>\n",
              "  </tbody>\n",
              "</table>\n",
              "</div>\n",
              "      <button class=\"colab-df-convert\" onclick=\"convertToInteractive('df-fe8e1876-d7af-485a-935e-06125bacb092')\"\n",
              "              title=\"Convert this dataframe to an interactive table.\"\n",
              "              style=\"display:none;\">\n",
              "        \n",
              "  <svg xmlns=\"http://www.w3.org/2000/svg\" height=\"24px\"viewBox=\"0 0 24 24\"\n",
              "       width=\"24px\">\n",
              "    <path d=\"M0 0h24v24H0V0z\" fill=\"none\"/>\n",
              "    <path d=\"M18.56 5.44l.94 2.06.94-2.06 2.06-.94-2.06-.94-.94-2.06-.94 2.06-2.06.94zm-11 1L8.5 8.5l.94-2.06 2.06-.94-2.06-.94L8.5 2.5l-.94 2.06-2.06.94zm10 10l.94 2.06.94-2.06 2.06-.94-2.06-.94-.94-2.06-.94 2.06-2.06.94z\"/><path d=\"M17.41 7.96l-1.37-1.37c-.4-.4-.92-.59-1.43-.59-.52 0-1.04.2-1.43.59L10.3 9.45l-7.72 7.72c-.78.78-.78 2.05 0 2.83L4 21.41c.39.39.9.59 1.41.59.51 0 1.02-.2 1.41-.59l7.78-7.78 2.81-2.81c.8-.78.8-2.07 0-2.86zM5.41 20L4 18.59l7.72-7.72 1.47 1.35L5.41 20z\"/>\n",
              "  </svg>\n",
              "      </button>\n",
              "      \n",
              "  <style>\n",
              "    .colab-df-container {\n",
              "      display:flex;\n",
              "      flex-wrap:wrap;\n",
              "      gap: 12px;\n",
              "    }\n",
              "\n",
              "    .colab-df-convert {\n",
              "      background-color: #E8F0FE;\n",
              "      border: none;\n",
              "      border-radius: 50%;\n",
              "      cursor: pointer;\n",
              "      display: none;\n",
              "      fill: #1967D2;\n",
              "      height: 32px;\n",
              "      padding: 0 0 0 0;\n",
              "      width: 32px;\n",
              "    }\n",
              "\n",
              "    .colab-df-convert:hover {\n",
              "      background-color: #E2EBFA;\n",
              "      box-shadow: 0px 1px 2px rgba(60, 64, 67, 0.3), 0px 1px 3px 1px rgba(60, 64, 67, 0.15);\n",
              "      fill: #174EA6;\n",
              "    }\n",
              "\n",
              "    [theme=dark] .colab-df-convert {\n",
              "      background-color: #3B4455;\n",
              "      fill: #D2E3FC;\n",
              "    }\n",
              "\n",
              "    [theme=dark] .colab-df-convert:hover {\n",
              "      background-color: #434B5C;\n",
              "      box-shadow: 0px 1px 3px 1px rgba(0, 0, 0, 0.15);\n",
              "      filter: drop-shadow(0px 1px 2px rgba(0, 0, 0, 0.3));\n",
              "      fill: #FFFFFF;\n",
              "    }\n",
              "  </style>\n",
              "\n",
              "      <script>\n",
              "        const buttonEl =\n",
              "          document.querySelector('#df-fe8e1876-d7af-485a-935e-06125bacb092 button.colab-df-convert');\n",
              "        buttonEl.style.display =\n",
              "          google.colab.kernel.accessAllowed ? 'block' : 'none';\n",
              "\n",
              "        async function convertToInteractive(key) {\n",
              "          const element = document.querySelector('#df-fe8e1876-d7af-485a-935e-06125bacb092');\n",
              "          const dataTable =\n",
              "            await google.colab.kernel.invokeFunction('convertToInteractive',\n",
              "                                                     [key], {});\n",
              "          if (!dataTable) return;\n",
              "\n",
              "          const docLinkHtml = 'Like what you see? Visit the ' +\n",
              "            '<a target=\"_blank\" href=https://colab.research.google.com/notebooks/data_table.ipynb>data table notebook</a>'\n",
              "            + ' to learn more about interactive tables.';\n",
              "          element.innerHTML = '';\n",
              "          dataTable['output_type'] = 'display_data';\n",
              "          await google.colab.output.renderOutput(dataTable, element);\n",
              "          const docLink = document.createElement('div');\n",
              "          docLink.innerHTML = docLinkHtml;\n",
              "          element.appendChild(docLink);\n",
              "        }\n",
              "      </script>\n",
              "    </div>\n",
              "  </div>\n",
              "  "
            ]
          },
          "metadata": {}
        },
        {
          "output_type": "display_data",
          "data": {
            "text/plain": [
              "<Figure size 432x288 with 1 Axes>"
            ],
            "image/png": "[encoded data removed]"
          },
          "metadata": {
            "needs_background": "light"
          }
        }
      ]
    },
    {
      "cell_type": "code",
      "source": [
        "customer_id.columns"
      ],
      "metadata": {
        "colab": {
          "base_uri": "https://localhost:8080/"
        },
        "id": "yN0tGnx8fqxB",
        "outputId": "dc471cb9-cd0e-4e51-8098-ff11e0902a3c"
      },
      "execution_count": 227,
      "outputs": [
        {
          "output_type": "execute_result",
          "data": {
            "text/plain": [
              "Index(['Customer ID', 'Gender', 'Age', 'Income (USD/Month)'], dtype='object')"
            ]
          },
          "metadata": {},
          "execution_count": 227
        }
      ]
    },
    {
      "cell_type": "code",
      "source": [
        "transaction_id.columns"
      ],
      "metadata": {
        "colab": {
          "base_uri": "https://localhost:8080/"
        },
        "id": "XUBSHW-1fst5",
        "outputId": "52664893-0fa7-4991-82a6-9205c5033298"
      },
      "execution_count": 228,
      "outputs": [
        {
          "output_type": "execute_result",
          "data": {
            "text/plain": [
              "Index(['Transaction ID', 'Customer ID', 'Payment_Mode'], dtype='object')"
            ]
          },
          "metadata": {},
          "execution_count": 228
        }
      ]
    },
    {
      "cell_type": "code",
      "source": [
        "merged_transaction=pd.merge(transaction_id,customer_id, on='Customer ID')\n",
        "merged_transaction.head()"
      ],
      "metadata": {
        "colab": {
          "base_uri": "https://localhost:8080/",
          "height": 206
        },
        "id": "z6KEx7JUFdL8",
        "outputId": "1ba19f31-4813-46bd-f90f-35e555ff6225"
      },
      "execution_count": 229,
      "outputs": [
        {
          "output_type": "execute_result",
          "data": {
            "text/plain": [
              "   Transaction ID  Customer ID Payment_Mode Gender  Age  Income (USD/Month)\n",
              "0        10000011        29290         Card   Male   28               10813\n",
              "1        10351127        29290         Cash   Male   28               10813\n",
              "2        10412921        29290         Card   Male   28               10813\n",
              "3        10000012        27703         Card   Male   27                9237\n",
              "4        10320494        27703         Card   Male   27                9237"
            ],
            "text/html": [
              "\n",
              "  <div id=\"df-8447a4a7-afdc-4864-9894-19199a2857f3\">\n",
              "    <div class=\"colab-df-container\">\n",
              "      <div>\n",
              "<style scoped>\n",
              "    .dataframe tbody tr th:only-of-type {\n",
              "        vertical-align: middle;\n",
              "    }\n",
              "\n",
              "    .dataframe tbody tr th {\n",
              "        vertical-align: top;\n",
              "    }\n",
              "\n",
              "    .dataframe thead th {\n",
              "        text-align: right;\n",
              "    }\n",
              "</style>\n",
              "<table border=\"1\" class=\"dataframe\">\n",
              "  <thead>\n",
              "    <tr style=\"text-align: right;\">\n",
              "      <th></th>\n",
              "      <th>Transaction ID</th>\n",
              "      <th>Customer ID</th>\n",
              "      <th>Payment_Mode</th>\n",
              "      <th>Gender</th>\n",
              "      <th>Age</th>\n",
              "      <th>Income (USD/Month)</th>\n",
              "    </tr>\n",
              "  </thead>\n",
              "  <tbody>\n",
              "    <tr>\n",
              "      <th>0</th>\n",
              "      <td>10000011</td>\n",
              "      <td>29290</td>\n",
              "      <td>Card</td>\n",
              "      <td>Male</td>\n",
              "      <td>28</td>\n",
              "      <td>10813</td>\n",
              "    </tr>\n",
              "    <tr>\n",
              "      <th>1</th>\n",
              "      <td>10351127</td>\n",
              "      <td>29290</td>\n",
              "      <td>Cash</td>\n",
              "      <td>Male</td>\n",
              "      <td>28</td>\n",
              "      <td>10813</td>\n",
              "    </tr>\n",
              "    <tr>\n",
              "      <th>2</th>\n",
              "      <td>10412921</td>\n",
              "      <td>29290</td>\n",
              "      <td>Card</td>\n",
              "      <td>Male</td>\n",
              "      <td>28</td>\n",
              "      <td>10813</td>\n",
              "    </tr>\n",
              "    <tr>\n",
              "      <th>3</th>\n",
              "      <td>10000012</td>\n",
              "      <td>27703</td>\n",
              "      <td>Card</td>\n",
              "      <td>Male</td>\n",
              "      <td>27</td>\n",
              "      <td>9237</td>\n",
              "    </tr>\n",
              "    <tr>\n",
              "      <th>4</th>\n",
              "      <td>10320494</td>\n",
              "      <td>27703</td>\n",
              "      <td>Card</td>\n",
              "      <td>Male</td>\n",
              "      <td>27</td>\n",
              "      <td>9237</td>\n",
              "    </tr>\n",
              "  </tbody>\n",
              "</table>\n",
              "</div>\n",
              "      <button class=\"colab-df-convert\" onclick=\"convertToInteractive('df-8447a4a7-afdc-4864-9894-19199a2857f3')\"\n",
              "              title=\"Convert this dataframe to an interactive table.\"\n",
              "              style=\"display:none;\">\n",
              "        \n",
              "  <svg xmlns=\"http://www.w3.org/2000/svg\" height=\"24px\"viewBox=\"0 0 24 24\"\n",
              "       width=\"24px\">\n",
              "    <path d=\"M0 0h24v24H0V0z\" fill=\"none\"/>\n",
              "    <path d=\"M18.56 5.44l.94 2.06.94-2.06 2.06-.94-2.06-.94-.94-2.06-.94 2.06-2.06.94zm-11 1L8.5 8.5l.94-2.06 2.06-.94-2.06-.94L8.5 2.5l-.94 2.06-2.06.94zm10 10l.94 2.06.94-2.06 2.06-.94-2.06-.94-.94-2.06-.94 2.06-2.06.94z\"/><path d=\"M17.41 7.96l-1.37-1.37c-.4-.4-.92-.59-1.43-.59-.52 0-1.04.2-1.43.59L10.3 9.45l-7.72 7.72c-.78.78-.78 2.05 0 2.83L4 21.41c.39.39.9.59 1.41.59.51 0 1.02-.2 1.41-.59l7.78-7.78 2.81-2.81c.8-.78.8-2.07 0-2.86zM5.41 20L4 18.59l7.72-7.72 1.47 1.35L5.41 20z\"/>\n",
              "  </svg>\n",
              "      </button>\n",
              "      \n",
              "  <style>\n",
              "    .colab-df-container {\n",
              "      display:flex;\n",
              "      flex-wrap:wrap;\n",
              "      gap: 12px;\n",
              "    }\n",
              "\n",
              "    .colab-df-convert {\n",
              "      background-color: #E8F0FE;\n",
              "      border: none;\n",
              "      border-radius: 50%;\n",
              "      cursor: pointer;\n",
              "      display: none;\n",
              "      fill: #1967D2;\n",
              "      height: 32px;\n",
              "      padding: 0 0 0 0;\n",
              "      width: 32px;\n",
              "    }\n",
              "\n",
              "    .colab-df-convert:hover {\n",
              "      background-color: #E2EBFA;\n",
              "      box-shadow: 0px 1px 2px rgba(60, 64, 67, 0.3), 0px 1px 3px 1px rgba(60, 64, 67, 0.15);\n",
              "      fill: #174EA6;\n",
              "    }\n",
              "\n",
              "    [theme=dark] .colab-df-convert {\n",
              "      background-color: #3B4455;\n",
              "      fill: #D2E3FC;\n",
              "    }\n",
              "\n",
              "    [theme=dark] .colab-df-convert:hover {\n",
              "      background-color: #434B5C;\n",
              "      box-shadow: 0px 1px 3px 1px rgba(0, 0, 0, 0.15);\n",
              "      filter: drop-shadow(0px 1px 2px rgba(0, 0, 0, 0.3));\n",
              "      fill: #FFFFFF;\n",
              "    }\n",
              "  </style>\n",
              "\n",
              "      <script>\n",
              "        const buttonEl =\n",
              "          document.querySelector('#df-8447a4a7-afdc-4864-9894-19199a2857f3 button.colab-df-convert');\n",
              "        buttonEl.style.display =\n",
              "          google.colab.kernel.accessAllowed ? 'block' : 'none';\n",
              "\n",
              "        async function convertToInteractive(key) {\n",
              "          const element = document.querySelector('#df-8447a4a7-afdc-4864-9894-19199a2857f3');\n",
              "          const dataTable =\n",
              "            await google.colab.kernel.invokeFunction('convertToInteractive',\n",
              "                                                     [key], {});\n",
              "          if (!dataTable) return;\n",
              "\n",
              "          const docLinkHtml = 'Like what you see? Visit the ' +\n",
              "            '<a target=\"_blank\" href=https://colab.research.google.com/notebooks/data_table.ipynb>data table notebook</a>'\n",
              "            + ' to learn more about interactive tables.';\n",
              "          element.innerHTML = '';\n",
              "          dataTable['output_type'] = 'display_data';\n",
              "          await google.colab.output.renderOutput(dataTable, element);\n",
              "          const docLink = document.createElement('div');\n",
              "          docLink.innerHTML = docLinkHtml;\n",
              "          element.appendChild(docLink);\n",
              "        }\n",
              "      </script>\n",
              "    </div>\n",
              "  </div>\n",
              "  "
            ]
          },
          "metadata": {},
          "execution_count": 229
        }
      ]
    },
    {
      "cell_type": "code",
      "source": [
        "cab_data_merged=pd.merge(cab_data,city,on='City')"
      ],
      "metadata": {
        "id": "Qq9hqGZeHNCn"
      },
      "execution_count": 230,
      "outputs": []
    },
    {
      "cell_type": "code",
      "source": [
        "cab_data_merged.head(2)"
      ],
      "metadata": {
        "colab": {
          "base_uri": "https://localhost:8080/",
          "height": 112
        },
        "id": "sTO_MX5Wfu9g",
        "outputId": "62e9e566-1e0a-4a6c-d3fc-478060059a4f"
      },
      "execution_count": 231,
      "outputs": [
        {
          "output_type": "execute_result",
          "data": {
            "text/plain": [
              "   Transaction ID Date of Travel   Company        City  KM Travelled  \\\n",
              "0        10000011     2016-08-01  Pink Cab  ATLANTA GA         30.45   \n",
              "1        10000012     2016-06-01  Pink Cab  ATLANTA GA         28.62   \n",
              "\n",
              "   Price Charged  Cost of Trip  Profit  Population    Users  user_percent  \n",
              "0         370.95       313.635  57.315    814885.0  24701.0      3.031225  \n",
              "1         358.52       334.854  23.666    814885.0  24701.0      3.031225  "
            ],
            "text/html": [
              "\n",
              "  <div id=\"df-6768dd52-b80e-4c90-8b5e-9d1e50ced438\">\n",
              "    <div class=\"colab-df-container\">\n",
              "      <div>\n",
              "<style scoped>\n",
              "    .dataframe tbody tr th:only-of-type {\n",
              "        vertical-align: middle;\n",
              "    }\n",
              "\n",
              "    .dataframe tbody tr th {\n",
              "        vertical-align: top;\n",
              "    }\n",
              "\n",
              "    .dataframe thead th {\n",
              "        text-align: right;\n",
              "    }\n",
              "</style>\n",
              "<table border=\"1\" class=\"dataframe\">\n",
              "  <thead>\n",
              "    <tr style=\"text-align: right;\">\n",
              "      <th></th>\n",
              "      <th>Transaction ID</th>\n",
              "      <th>Date of Travel</th>\n",
              "      <th>Company</th>\n",
              "      <th>City</th>\n",
              "      <th>KM Travelled</th>\n",
              "      <th>Price Charged</th>\n",
              "      <th>Cost of Trip</th>\n",
              "      <th>Profit</th>\n",
              "      <th>Population</th>\n",
              "      <th>Users</th>\n",
              "      <th>user_percent</th>\n",
              "    </tr>\n",
              "  </thead>\n",
              "  <tbody>\n",
              "    <tr>\n",
              "      <th>0</th>\n",
              "      <td>10000011</td>\n",
              "      <td>2016-08-01</td>\n",
              "      <td>Pink Cab</td>\n",
              "      <td>ATLANTA GA</td>\n",
              "      <td>30.45</td>\n",
              "      <td>370.95</td>\n",
              "      <td>313.635</td>\n",
              "      <td>57.315</td>\n",
              "      <td>814885.0</td>\n",
              "      <td>24701.0</td>\n",
              "      <td>3.031225</td>\n",
              "    </tr>\n",
              "    <tr>\n",
              "      <th>1</th>\n",
              "      <td>10000012</td>\n",
              "      <td>2016-06-01</td>\n",
              "      <td>Pink Cab</td>\n",
              "      <td>ATLANTA GA</td>\n",
              "      <td>28.62</td>\n",
              "      <td>358.52</td>\n",
              "      <td>334.854</td>\n",
              "      <td>23.666</td>\n",
              "      <td>814885.0</td>\n",
              "      <td>24701.0</td>\n",
              "      <td>3.031225</td>\n",
              "    </tr>\n",
              "  </tbody>\n",
              "</table>\n",
              "</div>\n",
              "      <button class=\"colab-df-convert\" onclick=\"convertToInteractive('df-6768dd52-b80e-4c90-8b5e-9d1e50ced438')\"\n",
              "              title=\"Convert this dataframe to an interactive table.\"\n",
              "              style=\"display:none;\">\n",
              "        \n",
              "  <svg xmlns=\"http://www.w3.org/2000/svg\" height=\"24px\"viewBox=\"0 0 24 24\"\n",
              "       width=\"24px\">\n",
              "    <path d=\"M0 0h24v24H0V0z\" fill=\"none\"/>\n",
              "    <path d=\"M18.56 5.44l.94 2.06.94-2.06 2.06-.94-2.06-.94-.94-2.06-.94 2.06-2.06.94zm-11 1L8.5 8.5l.94-2.06 2.06-.94-2.06-.94L8.5 2.5l-.94 2.06-2.06.94zm10 10l.94 2.06.94-2.06 2.06-.94-2.06-.94-.94-2.06-.94 2.06-2.06.94z\"/><path d=\"M17.41 7.96l-1.37-1.37c-.4-.4-.92-.59-1.43-.59-.52 0-1.04.2-1.43.59L10.3 9.45l-7.72 7.72c-.78.78-.78 2.05 0 2.83L4 21.41c.39.39.9.59 1.41.59.51 0 1.02-.2 1.41-.59l7.78-7.78 2.81-2.81c.8-.78.8-2.07 0-2.86zM5.41 20L4 18.59l7.72-7.72 1.47 1.35L5.41 20z\"/>\n",
              "  </svg>\n",
              "      </button>\n",
              "      \n",
              "  <style>\n",
              "    .colab-df-container {\n",
              "      display:flex;\n",
              "      flex-wrap:wrap;\n",
              "      gap: 12px;\n",
              "    }\n",
              "\n",
              "    .colab-df-convert {\n",
              "      background-color: #E8F0FE;\n",
              "      border: none;\n",
              "      border-radius: 50%;\n",
              "      cursor: pointer;\n",
              "      display: none;\n",
              "      fill: #1967D2;\n",
              "      height: 32px;\n",
              "      padding: 0 0 0 0;\n",
              "      width: 32px;\n",
              "    }\n",
              "\n",
              "    .colab-df-convert:hover {\n",
              "      background-color: #E2EBFA;\n",
              "      box-shadow: 0px 1px 2px rgba(60, 64, 67, 0.3), 0px 1px 3px 1px rgba(60, 64, 67, 0.15);\n",
              "      fill: #174EA6;\n",
              "    }\n",
              "\n",
              "    [theme=dark] .colab-df-convert {\n",
              "      background-color: #3B4455;\n",
              "      fill: #D2E3FC;\n",
              "    }\n",
              "\n",
              "    [theme=dark] .colab-df-convert:hover {\n",
              "      background-color: #434B5C;\n",
              "      box-shadow: 0px 1px 3px 1px rgba(0, 0, 0, 0.15);\n",
              "      filter: drop-shadow(0px 1px 2px rgba(0, 0, 0, 0.3));\n",
              "      fill: #FFFFFF;\n",
              "    }\n",
              "  </style>\n",
              "\n",
              "      <script>\n",
              "        const buttonEl =\n",
              "          document.querySelector('#df-6768dd52-b80e-4c90-8b5e-9d1e50ced438 button.colab-df-convert');\n",
              "        buttonEl.style.display =\n",
              "          google.colab.kernel.accessAllowed ? 'block' : 'none';\n",
              "\n",
              "        async function convertToInteractive(key) {\n",
              "          const element = document.querySelector('#df-6768dd52-b80e-4c90-8b5e-9d1e50ced438');\n",
              "          const dataTable =\n",
              "            await google.colab.kernel.invokeFunction('convertToInteractive',\n",
              "                                                     [key], {});\n",
              "          if (!dataTable) return;\n",
              "\n",
              "          const docLinkHtml = 'Like what you see? Visit the ' +\n",
              "            '<a target=\"_blank\" href=https://colab.research.google.com/notebooks/data_table.ipynb>data table notebook</a>'\n",
              "            + ' to learn more about interactive tables.';\n",
              "          element.innerHTML = '';\n",
              "          dataTable['output_type'] = 'display_data';\n",
              "          await google.colab.output.renderOutput(dataTable, element);\n",
              "          const docLink = document.createElement('div');\n",
              "          docLink.innerHTML = docLinkHtml;\n",
              "          element.appendChild(docLink);\n",
              "        }\n",
              "      </script>\n",
              "    </div>\n",
              "  </div>\n",
              "  "
            ]
          },
          "metadata": {},
          "execution_count": 231
        }
      ]
    },
    {
      "cell_type": "code",
      "source": [
        "master_data=pd.merge(cab_data_merged,merged_transaction,on='Transaction ID')"
      ],
      "metadata": {
        "id": "e3ZzCrS0HguT"
      },
      "execution_count": 232,
      "outputs": []
    },
    {
      "cell_type": "code",
      "source": [
        "master_data.columns"
      ],
      "metadata": {
        "colab": {
          "base_uri": "https://localhost:8080/"
        },
        "id": "6u2T9Muhf2i4",
        "outputId": "4121d339-cda5-4e7c-b5dd-13fca8cf5129"
      },
      "execution_count": 233,
      "outputs": [
        {
          "output_type": "execute_result",
          "data": {
            "text/plain": [
              "Index(['Transaction ID', 'Date of Travel', 'Company', 'City', 'KM Travelled',\n",
              "       'Price Charged', 'Cost of Trip', 'Profit', 'Population', 'Users',\n",
              "       'user_percent', 'Customer ID', 'Payment_Mode', 'Gender', 'Age',\n",
              "       'Income (USD/Month)'],\n",
              "      dtype='object')"
            ]
          },
          "metadata": {},
          "execution_count": 233
        }
      ]
    },
    {
      "cell_type": "code",
      "source": [
        "master_data=master_data.drop(['Cost of Trip','Population'],axis=1)\n",
        "master_data.columns"
      ],
      "metadata": {
        "colab": {
          "base_uri": "https://localhost:8080/"
        },
        "id": "iZbbA1x6IKns",
        "outputId": "b444c21b-d0d8-4cef-c792-9f6a5e876f60"
      },
      "execution_count": 234,
      "outputs": [
        {
          "output_type": "execute_result",
          "data": {
            "text/plain": [
              "Index(['Transaction ID', 'Date of Travel', 'Company', 'City', 'KM Travelled',\n",
              "       'Price Charged', 'Profit', 'Users', 'user_percent', 'Customer ID',\n",
              "       'Payment_Mode', 'Gender', 'Age', 'Income (USD/Month)'],\n",
              "      dtype='object')"
            ]
          },
          "metadata": {},
          "execution_count": 234
        }
      ]
    },
    {
      "cell_type": "code",
      "source": [
        "master_data=master_data.drop_duplicates(subset=['Transaction ID'])\n",
        "master_data.info()"
      ],
      "metadata": {
        "colab": {
          "base_uri": "https://localhost:8080/"
        },
        "id": "rXuO2WFgIf6Q",
        "outputId": "ec6e0b3e-3a02-4f49-e891-87a7b009c457"
      },
      "execution_count": 235,
      "outputs": [
        {
          "output_type": "stream",
          "name": "stdout",
          "text": [
            "<class 'pandas.core.frame.DataFrame'>\n",
            "Int64Index: 359392 entries, 0 to 359391\n",
            "Data columns (total 14 columns):\n",
            " #   Column              Non-Null Count   Dtype         \n",
            "---  ------              --------------   -----         \n",
            " 0   Transaction ID      359392 non-null  int64         \n",
            " 1   Date of Travel      359392 non-null  datetime64[ns]\n",
            " 2   Company             359392 non-null  object        \n",
            " 3   City                359392 non-null  object        \n",
            " 4   KM Travelled        359392 non-null  float64       \n",
            " 5   Price Charged       359392 non-null  float64       \n",
            " 6   Profit              359392 non-null  float64       \n",
            " 7   Users               359392 non-null  float64       \n",
            " 8   user_percent        359392 non-null  float64       \n",
            " 9   Customer ID         359392 non-null  int64         \n",
            " 10  Payment_Mode        359392 non-null  object        \n",
            " 11  Gender              359392 non-null  object        \n",
            " 12  Age                 359392 non-null  int64         \n",
            " 13  Income (USD/Month)  359392 non-null  int64         \n",
            "dtypes: datetime64[ns](1), float64(5), int64(4), object(4)\n",
            "memory usage: 41.1+ MB\n"
          ]
        }
      ]
    },
    {
      "cell_type": "code",
      "source": [
        "grouped_master=master_data.groupby(['Company','City'])['user_percent'].max()\n",
        "df2=grouped_master.reset_index()\n",
        "pivot = df2.pivot(index='City', columns='Company', values='user_percent')\n",
        "\n",
        "pivot.plot(kind='bar', stacked=True)\n",
        "\n",
        "plt.xlabel('City')\n",
        "plt.ylabel('User Percent')\n",
        "plt.legend()\n",
        "plt.show()"
      ],
      "metadata": {
        "id": "S4D5VWcjg8jm",
        "colab": {
          "base_uri": "https://localhost:8080/",
          "height": 357
        },
        "outputId": "976ff14f-8208-4435-f8f0-9821f5b83472"
      },
      "execution_count": 236,
      "outputs": [
        {
          "output_type": "display_data",
          "data": {
            "text/plain": [
              "<Figure size 432x288 with 1 Axes>"
            ],
            "image/png": "[encoded data removed]"
          },
          "metadata": {
            "needs_background": "light"
          }
        }
      ]
    },
    {
      "cell_type": "code",
      "source": [
        "grouped_master=master_data.groupby(['Company','City'])['Users'].max()\n",
        "df2=grouped_master.reset_index()\n",
        "pivot = df2.pivot(index='City', columns='Company', values='Users')\n",
        "\n",
        "pivot.plot(kind='bar', stacked=True)\n",
        "\n",
        "plt.xlabel('City')\n",
        "plt.ylabel('User Percent')\n",
        "plt.legend()\n",
        "plt.show()"
      ],
      "metadata": {
        "colab": {
          "base_uri": "https://localhost:8080/",
          "height": 357
        },
        "id": "mlSZ295TSBca",
        "outputId": "2141df0c-fc4c-4fdf-bf65-1f11581ceb94"
      },
      "execution_count": 237,
      "outputs": [
        {
          "output_type": "display_data",
          "data": {
            "text/plain": [
              "<Figure size 432x288 with 1 Axes>"
            ],
            "image/png": "[encoded data removed]"
          },
          "metadata": {
            "needs_background": "light"
          }
        }
      ]
    },
    {
      "cell_type": "code",
      "source": [
        "grouped_master=master_data.groupby(['Company','Gender'])['Users'].count()\n",
        "df2=grouped_master.reset_index()\n",
        "pivot = df2.pivot(index='Gender', columns='Company', values='Users')\n",
        "\n",
        "pivot.plot(kind='bar', stacked=True)\n",
        "\n",
        "plt.xlabel('City')\n",
        "plt.ylabel('User Percent')\n",
        "plt.legend()\n",
        "plt.show()"
      ],
      "metadata": {
        "colab": {
          "base_uri": "https://localhost:8080/",
          "height": 305
        },
        "id": "zXWWp_MgWVKW",
        "outputId": "77f95304-429b-4e1a-edbf-ac2f58d99788"
      },
      "execution_count": 238,
      "outputs": [
        {
          "output_type": "display_data",
          "data": {
            "text/plain": [
              "<Figure size 432x288 with 1 Axes>"
            ],
            "image/png": "[encoded data removed]"
          },
          "metadata": {
            "needs_background": "light"
          }
        }
      ]
    },
    {
      "cell_type": "markdown",
      "source": [
        "EDA Recommendation and hypothesis Result"
      ],
      "metadata": {
        "id": "4ut-h5y7aAay"
      }
    },
    {
      "cell_type": "code",
      "source": [
        "from scipy.stats import chi2_contingency, chi2\n",
        "\n",
        "grouped_master=master_data.groupby(['Company','City'])['Users'].count()\n",
        "df2=grouped_master.reset_index()\n",
        "pivot = df2.pivot(index='Company', columns='City', values='Users')\n",
        "\n",
        "\n",
        "stat, p, dof, expected = chi2_contingency(pivot)\n",
        "\n",
        "# interpret test-statistics\n",
        "prob=0.95\n",
        "critical = chi2.ppf(prob, dof)\n",
        "print(critical)\n",
        "if abs(stat) >= critical:\n",
        " print('reject H0')\n",
        "else:\n",
        " print('fail to reject H0')"
      ],
      "metadata": {
        "colab": {
          "base_uri": "https://localhost:8080/"
        },
        "id": "HVBrs_UlXzj6",
        "outputId": "7f70e1a4-6674-4177-e696-352ebc422f52"
      },
      "execution_count": 239,
      "outputs": [
        {
          "output_type": "stream",
          "name": "stdout",
          "text": [
            "28.869299430392623\n",
            "reject H0\n"
          ]
        }
      ]
    },
    {
      "cell_type": "markdown",
      "source": [
        "We have taken the null hypothesis or H0 that Pink Cab is being used more or is more profitable to invest in with the accuracy of 95%. It turns out that it does not as our hypothesis is rejected. So I conclude that Yellow Cab is more popular in different cities and is a good company to invest in."
      ],
      "metadata": {
        "id": "jVj15hh7gASp"
      }
    },
    {
      "cell_type": "markdown",
      "source": [
        "We have seen trends on yellow and Pink Cab companies across years based on the amount of profit they make per ride and Yellow Cab turns out to be most profitable company to invest in."
      ],
      "metadata": {
        "id": "YEdP2uphg2J_"
      }
    },
    {
      "cell_type": "code",
      "source": [],
      "metadata": {
        "id": "7AU-6Y7bhQbb"
      },
      "execution_count": 239,
      "outputs": []
    }
  ]
}